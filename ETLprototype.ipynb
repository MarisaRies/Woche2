{
  "nbformat": 4,
  "nbformat_minor": 0,
  "metadata": {
    "colab": {
      "name": "ETLprototype.ipynb",
      "provenance": [],
      "collapsed_sections": [],
      "include_colab_link": true
    },
    "kernelspec": {
      "name": "python3",
      "display_name": "Python 3"
    }
  },
  "cells": [
    {
      "cell_type": "markdown",
      "metadata": {
        "id": "view-in-github",
        "colab_type": "text"
      },
      "source": [
        "<a href=\"https://colab.research.google.com/github/MarisaRies/Woche2/blob/main/ETLprototype.ipynb\" target=\"_parent\"><img src=\"https://colab.research.google.com/assets/colab-badge.svg\" alt=\"Open In Colab\"/></a>"
      ]
    },
    {
      "cell_type": "markdown",
      "metadata": {
        "id": "rDF6jnIrk5L8"
      },
      "source": [
        "# **Objective**: Create a Datawarehouse and transform data from source database to datawarehouse db\n",
        "\n"
      ]
    },
    {
      "cell_type": "markdown",
      "metadata": {
        "id": "aFINDtv7IOsW"
      },
      "source": [
        "# Importing libraries"
      ]
    },
    {
      "cell_type": "code",
      "metadata": {
        "id": "PAtASFg0NjWe"
      },
      "source": [
        "import sqlite3\n",
        "from sqlite3 import Error"
      ],
      "execution_count": null,
      "outputs": []
    },
    {
      "cell_type": "code",
      "metadata": {
        "id": "f5SVaUDA3QRc",
        "colab": {
          "base_uri": "https://localhost:8080/"
        },
        "outputId": "d1bedeac-ab6d-45a6-e23a-7b8a85127a37"
      },
      "source": [
        "from google.colab import drive\n",
        "# mount drive to access database\n",
        "drive.mount(\"/content/drive\")"
      ],
      "execution_count": null,
      "outputs": [
        {
          "output_type": "stream",
          "name": "stdout",
          "text": [
            "Drive already mounted at /content/drive; to attempt to forcibly remount, call drive.mount(\"/content/drive\", force_remount=True).\n"
          ]
        }
      ]
    },
    {
      "cell_type": "markdown",
      "metadata": {
        "id": "hO-KOV0IITRx"
      },
      "source": [
        "# Path of input/output data \n"
      ]
    },
    {
      "cell_type": "code",
      "metadata": {
        "id": "cbN89u5p-vgO"
      },
      "source": [
        "material_path = \"/content/drive/My Drive/Studium/Material\""
      ],
      "execution_count": null,
      "outputs": []
    },
    {
      "cell_type": "markdown",
      "metadata": {
        "id": "ZbvVje0BJCTf"
      },
      "source": [
        "Uncomment one type of patient that you would like to create for it datawarehouse database and  transfer tables from source db to it."
      ]
    },
    {
      "cell_type": "code",
      "metadata": {
        "id": "uzL1jGs-751J"
      },
      "source": [
        "## type of patients\n",
        "# patient_type = \"allergy\"\n",
        "# patient_type = \"asthma\"\n",
        "# patient_type = \"breast_cancer\"\n",
        "# patient_type = \"metabolic_syndrome_disease\"\n",
        "# patient_type = \"colorectal_cancer\"\n",
        "patient_type = \"covid19\"\n",
        "# patient_type = \"dermatitis\"\n",
        "# patient_type = \"lung_cancer\""
      ],
      "execution_count": null,
      "outputs": []
    },
    {
      "cell_type": "code",
      "metadata": {
        "id": "iik2EG7sTkl3",
        "colab": {
          "base_uri": "https://localhost:8080/",
          "height": 35
        },
        "outputId": "80b05434-d964-4596-cde1-a138ccce9c3f"
      },
      "source": [
        "# path of source database\n",
        "#DB_SOURCE_PATH = f\"{material_path}/source_dbs/source_{patient_type}_test.db\"\n",
        "DB_SOURCE_PATH = f\"{material_path}/source_dbs/source_{patient_type}.db\"\n",
        "DB_SOURCE_PATH"
      ],
      "execution_count": null,
      "outputs": [
        {
          "output_type": "execute_result",
          "data": {
            "application/vnd.google.colaboratory.intrinsic+json": {
              "type": "string"
            },
            "text/plain": [
              "'/content/drive/My Drive/Studium/Material/source_dbs/source_covid19.db'"
            ]
          },
          "metadata": {},
          "execution_count": 65
        }
      ]
    },
    {
      "cell_type": "code",
      "metadata": {
        "id": "w4oN9QgLI7Cc"
      },
      "source": [
        "# path of datawarehouse\n",
        "#DB_DWH_PATH = f\"{material_path}/DWH_dbs/DWH_{patient_type}_test.db\"\n",
        "DB_DWH_PATH = f\"{material_path}/DWH_dbs/DWH_{patient_type}.db\"\n"
      ],
      "execution_count": null,
      "outputs": []
    },
    {
      "cell_type": "markdown",
      "metadata": {
        "id": "X_WekES-IlMO"
      },
      "source": [
        "# Create Datawarehouse "
      ]
    },
    {
      "cell_type": "code",
      "metadata": {
        "id": "2SL03VkYnodn"
      },
      "source": [
        "class DB(object):\n",
        "  def __init__(self, db_file):\n",
        "    self.conn = sqlite3.connect(db_file)\n",
        "    self.cur = self.conn.cursor()\n",
        "    self.__init_db()\n",
        "  \n",
        "  def __del__(self):\n",
        "      self.conn.commit()\n",
        "      self.conn.close()\n",
        "\n",
        "  def __init_db(self):\n",
        "    # sql queries to create tables in Datawarehouse \n",
        "\n",
        "    #  sql query to create patients_info table\n",
        "    create_patients_info = \"\"\"CREATE TABLE IF NOT EXISTS patients_info (\n",
        "                           Id STRING PRIMARY KEY,\n",
        "                           BIRTHDATE DATE,\n",
        "                           DEATHDATE DATE,\n",
        "                           SSN STRING,\n",
        "                           DRIVERS STRING,\n",
        "                           PASSPORT STRING,\n",
        "                           PREFIX STRING,\n",
        "                           FIRST STRING,\n",
        "                           LAST STRING,\n",
        "                           SUFFIX STRING,\n",
        "                           MAIDEN STRING,\n",
        "                           MARITAL STRING,\n",
        "                           RACE STRING,\n",
        "                           ETHNICITY STRING,\n",
        "                           GENDER STRING,\n",
        "                           BIRTHPLACE STRING,\n",
        "                           ADDRESS STRING,\n",
        "                           CITY STRING,\n",
        "                           STATE STRING,\n",
        "                           COUNTRY STRING,\n",
        "                           ZIP STRING,\n",
        "                           LAT INTEGER,\n",
        "                           LON INTEGER,\n",
        "                           HEALTHCARE_EXPENSES INTEGER,\n",
        "                           HEALTHCARE_COVERAGE INTEGER\n",
        "                       );\"\"\"\n",
        "\n",
        "    #  sql query to create disease table\n",
        "    create_disease_info = \"\"\"CREATE TABLE IF NOT EXISTS disease_info (\n",
        "                           START DATE,\n",
        "                           STOP DATE,\n",
        "                           PATIENT STRING,\n",
        "                           ENCOUNTER STRING,\n",
        "                           CODE STRING,\n",
        "                           DESCRIPTION STRING,\n",
        "                           FOREIGN KEY (PATIENT)\n",
        "                              REFERENCES patients_info (Id) \n",
        "                           FOREIGN KEY (Encounter)\n",
        "                              REFERENCES encounters (Id) \n",
        "\n",
        "                       );\"\"\"      \n",
        "\n",
        "\n",
        "    # sql query to create condition table\n",
        "    create_conditions_info = \"\"\"CREATE TABLE IF NOT EXISTS conditions_info (\n",
        "                           START DATE,\n",
        "                           STOP DATE,\n",
        "                           PATIENT STRING,\n",
        "                           ENCOUNTER STRING,\n",
        "                           CODE STRING,\n",
        "                           DESCRIPTION STRING,\n",
        "                           FOREIGN KEY (PATIENT)\n",
        "                              REFERENCES patients_info (Id) \n",
        "                           FOREIGN KEY (Encounter)\n",
        "                              REFERENCES encounters (Id) \n",
        "\n",
        "                       );\"\"\"\n",
        "\n",
        "    # sql query to create careplans table\n",
        "    create_careplans_info = \"\"\"CREATE TABLE IF NOT EXISTS careplans_info (\n",
        "                           Id STRING PRIMARY KEY,\n",
        "                           START DATE,\n",
        "                           STOP DATE,\n",
        "                           PATIENT STRING,\n",
        "                           ENCOUNTER STRING,\n",
        "                           CODE STRING,\n",
        "                           DESCRIPTION STRING,\n",
        "                           REASONCODE STRING,\n",
        "                           REASONDESCRIPTION STRING,\n",
        "                           FOREIGN KEY (PATIENT)\n",
        "                              REFERENCES patients_info (Id) \n",
        "                           FOREIGN KEY (Encounter)\n",
        "                              REFERENCES encounters (Id) \n",
        "\n",
        "                       );\"\"\"     \n",
        "\n",
        "    # sql query to create procedures table\n",
        "    create_procedures_info = \"\"\"CREATE TABLE IF NOT EXISTS procedures_info (\n",
        "                           DATE DATE,\n",
        "                           PATIENT STRING,\n",
        "                           ENCOUNTER STRING,\n",
        "                           CODE STRING,\n",
        "                           DESCRIPTION STRING,\n",
        "                           BASE_COST INTEGER,\n",
        "                           REASONCODE STRING,\n",
        "                           REASONDESCRIPTION STRING,\n",
        "                           FOREIGN KEY (PATIENT)\n",
        "                              REFERENCES patients_info (Id) \n",
        "                       );\"\"\"\n",
        "\n",
        "    # sql query to create medications_info table\n",
        "    create_medications_info = \"\"\"CREATE TABLE IF NOT EXISTS medications_info (\n",
        "                           START DATE,\n",
        "                           STOP DATE,\n",
        "                           PATIENT STRING,\n",
        "                           PAYER STRING,\n",
        "                           ENCOUNTER STRING,\n",
        "                           CODE STRING,\n",
        "                           DESCRIPTION STRING,\n",
        "                           BASE_COST INTEGER,\n",
        "                           PAYER_COVERAGE INTEGER,\n",
        "                           DISPENSES INTEGER,\n",
        "                           TOTALCOST INTEGER,\n",
        "                           REASONCODE STRING,\n",
        "                           REASONDESCRIPTION STRING,\n",
        "                           FOREIGN KEY (PATIENT)\n",
        "                              REFERENCES patients_info (Id) \n",
        "                           \n",
        "                       );\"\"\"\n",
        "\n",
        "    # sql query to create observations table\n",
        "    create_observations_info = \"\"\"CREATE TABLE IF NOT EXISTS observations_info (\n",
        "                           DATE DATE,\n",
        "                           PATIENT STRING,\n",
        "                           ENCOUNTER STRING,\n",
        "                           CODE STRING,\n",
        "                           DESCRIPTION STRING,\n",
        "                           VALUE STRING,\n",
        "                           UNITS STRING,\n",
        "                           TYPE STRING,\n",
        "                           FOREIGN KEY (PATIENT)\n",
        "                              REFERENCES patients_info (Id)\n",
        "                       );\"\"\"\n",
        "\n",
        "\n",
        "    # sql query to create devices table\n",
        "    create_devices_info = \"\"\"CREATE TABLE IF NOT EXISTS devices_info (\n",
        "                           START DATE,\n",
        "                           STOP DATE,\n",
        "                           PATIENT STRING,\n",
        "                           ENCOUNTER STRING,\n",
        "                           CODE STRING,\n",
        "                           DESCRIPTION STRING,\n",
        "                           UDI STRING,\n",
        "                           FOREIGN KEY (PATIENT)\n",
        "                              REFERENCES patients_info (Id)                 \n",
        "                       );\"\"\"\n",
        "   \n",
        "   # sql query to create Imaging_studies table\n",
        "    create_imaging_studies_info = \"\"\"CREATE TABLE IF NOT EXISTS imaging_studies_info (\n",
        "                           Id STRING PRIMARY KEY,\n",
        "                           DATE DATE,\n",
        "                           PATIENT STRING,\n",
        "                           ENCOUNTER STRING,\n",
        "                           BODYSITE_CODE STRING,\n",
        "                           BODYSITE_DESCRIPTION STRING,\n",
        "                           MODALITY_CODE STRING,\n",
        "                           MODALITY_DESCRIPTION STRING,\n",
        "                           SOP_CODE STRING,\n",
        "                           SOP_DESCRIPTION STRING,\n",
        "                           FOREIGN KEY (PATIENT)\n",
        "                              REFERENCES patients_info (Id)                            \n",
        "                       );\"\"\"\n",
        "\n",
        "    create_tables = [create_patients_info, # demographic data\n",
        "                     create_disease_info, create_conditions_info, # diagnoses data\n",
        "                     create_careplans_info, create_procedures_info, create_medications_info, # procedures data\n",
        "                     create_observations_info, create_devices_info, create_imaging_studies_info # lab values data\n",
        "                     ]\n",
        "     \n",
        "\n",
        "    if self.conn is not None:\n",
        "      # self.cur.execute(f\"drop table if exists medications_info\")\n",
        "      for query in create_tables:\n",
        "          self.cur.execute(query)\n",
        "    else:\n",
        "      print('Connection to database failed')\n",
        "\n"
      ],
      "execution_count": null,
      "outputs": []
    },
    {
      "cell_type": "markdown",
      "metadata": {
        "id": "VUIHYzr2IxMl"
      },
      "source": [
        "#ETL/ELT (Extract, transform, load )"
      ]
    },
    {
      "cell_type": "code",
      "metadata": {
        "id": "tBMOAjmPReGG"
      },
      "source": [
        "# exporting queries\n",
        "class SqlQuery:\n",
        "  def __init__(self, source_table, column_names, sink_table):\n",
        "    self.source_table = source_table\n",
        "    self.column_numbers = len(column_names)\n",
        "    self.column_names = ', '.join(column_names)\n",
        "    self.sink_table = sink_table\n",
        "\n",
        "  def extract_query(self):\n",
        "    return 'SELECT ' + self.column_names + ' FROM ' + self.source_table \n",
        "\n",
        "  def load_query(self):\n",
        "    values_str = '?,' * self.column_numbers\n",
        "    # print(\"*****\", values_str, column_names, column_numbers)\n",
        "    values_str = values_str[:-1]\n",
        "    return 'INSERT OR REPLACE INTO ' + self.sink_table + ' VALUES (' + values_str + ')'\n",
        "\n",
        "    # return 'INSERT INTO ' + self.sink_table + '(' + self.column_names + ') VALUES (' + values_str + ')'\n",
        "  \n",
        "\n"
      ],
      "execution_count": null,
      "outputs": []
    },
    {
      "cell_type": "code",
      "metadata": {
        "id": "FtEGoZc_PU5-"
      },
      "source": [
        "def etl(query, source_cnx, target_cnx):\n",
        "  # extract data from source db\n",
        "  source_cursor = source_cnx.cursor()\n",
        "  source_cursor.execute(query.extract_query())\n",
        "  data = source_cursor.fetchall()\n",
        "  source_cursor.close()\n",
        "\n",
        "  # load data into warehouse db\n",
        "  if data:\n",
        "    target_cursor = target_cnx.cursor()\n",
        "    target_cursor.executemany(query.load_query(), data)\n",
        "    print('data loaded to warehouse db') \n",
        "    target_cnx.commit()\n",
        "    target_cursor.close()\n",
        "  else:\n",
        "    print('data is empty')\n",
        "\n",
        "\n",
        "def etl_process(queries, target_cnx, db_source):\n",
        "  \"\"\"\n",
        "  queries: list\n",
        "        a list of queries\n",
        "  target_cnx: SQLite connection\n",
        "  db_source: str\n",
        "        path of source database      \n",
        "  \n",
        "  \"\"\"  \n",
        "  # establish source db connection\n",
        "  try:\n",
        "    source_cnx = sqlite3.connect(db_source)\n",
        "  except Error as err:\n",
        "    print(err)\n",
        "  \n",
        "  # loop through sql queries\n",
        "  for query in etl_queue:\n",
        "    etl(query, source_cnx, target_cnx)\n",
        "    \n",
        "  # close the source db connection\n",
        "  source_cnx.close()"
      ],
      "execution_count": null,
      "outputs": []
    },
    {
      "cell_type": "code",
      "metadata": {
        "id": "GB8GrFuLGRWb"
      },
      "source": [
        "# create Datawarehouse\n",
        "dwh_db = DB(DB_DWH_PATH)"
      ],
      "execution_count": null,
      "outputs": []
    },
    {
      "cell_type": "code",
      "metadata": {
        "id": "Lc28YPjOOpb0",
        "colab": {
          "base_uri": "https://localhost:8080/"
        },
        "outputId": "948ebe90-b933-4f5b-e8e7-d74f0efad5aa"
      },
      "source": [
        "print('starting etl')   \n",
        "# list for iteration\n",
        "etl_queue = []\n",
        "\n",
        "# demographic table\n",
        "patients_columns = ['Id', 'BIRTHDATE', 'DEATHDATE', 'SSN', 'DRIVERS', 'PASSPORT', 'PREFIX',\n",
        "                    'FIRST', 'LAST', 'SUFFIX', 'MAIDEN', 'MARITAL', 'RACE', 'ETHNICITY',\n",
        "                    'GENDER', 'BIRTHPLACE', 'ADDRESS', 'CITY', 'STATE', 'COUNTRY', 'ZIP',\n",
        "                    'LAT', 'LON', 'HEALTHCARE_EXPENSES', 'HEALTHCARE_COVERAGE']\n",
        "sql_query_patients = SqlQuery(\"patients\", patients_columns, \"patients_info\")\n",
        "etl_queue.append(sql_query_patients)\n",
        "\n",
        "# diagnoses tables\n",
        "disease_columns = ['START', 'STOP', 'PATIENT', 'ENCOUNTER', 'CODE', 'DESCRIPTION']\n",
        "sql_query_disease = SqlQuery(\"disease\", disease_columns, \"disease_info\")\n",
        "etl_queue.append(sql_query_disease)\n",
        "\n",
        "conditions_columns = ['START', 'STOP', 'PATIENT', 'ENCOUNTER', 'CODE', 'DESCRIPTION']\n",
        "sql_query_conditions = SqlQuery(\"conditions\", conditions_columns, \"conditions_info\")\n",
        "etl_queue.append(sql_query_conditions)\n",
        "\n",
        "# procedures tables\n",
        "procedures_columns = ['DATE', 'PATIENT', 'ENCOUNTER', 'CODE', 'DESCRIPTION', 'BASE_COST','REASONCODE', 'REASONDESCRIPTION']\n",
        "sql_query_procedures = SqlQuery(\"procedures\", procedures_columns, \"procedures_info\")\n",
        "etl_queue.append(sql_query_procedures)\n",
        "\n",
        "careplans_columns = ['Id', 'START', 'STOP', 'PATIENT', 'ENCOUNTER', 'CODE', 'DESCRIPTION', 'REASONCODE', 'REASONDESCRIPTION']\n",
        "sql_query_careplans = SqlQuery(\"careplans\", careplans_columns, \"careplans_info\")\n",
        "etl_queue.append(sql_query_careplans)\n",
        "\n",
        "medications_columns = ['START', 'STOP', 'PATIENT', 'PAYER', 'ENCOUNTER', 'CODE', 'DESCRIPTION',\n",
        "                       'BASE_COST', 'PAYER_COVERAGE', 'DISPENSES', 'TOTALCOST', 'REASONCODE',\n",
        "                       'REASONDESCRIPTION']\n",
        "sql_query_medications = SqlQuery(\"medications\", medications_columns, \"medications_info\")\n",
        "etl_queue.append(sql_query_medications)\n",
        "\n",
        "# lab values tables\n",
        "observations_columns = ['DATE', 'PATIENT', 'ENCOUNTER', 'CODE', 'DESCRIPTION', 'VALUE', 'UNITS','TYPE']\n",
        "sql_query_observations = SqlQuery(\"observations\", observations_columns, \"observations_info\")\n",
        "etl_queue.append(sql_query_observations)\n",
        "\n",
        "devices_columns = ['START', 'STOP', 'PATIENT', 'ENCOUNTER', 'CODE', 'DESCRIPTION', 'UDI']\n",
        "sql_query_devices = SqlQuery(\"devices\", devices_columns, \"devices_info\")\n",
        "etl_queue.append(sql_query_devices)\n",
        "\n",
        "imaging_studies_columns = ['Id', 'DATE', 'PATIENT', 'ENCOUNTER', 'BODYSITE_CODE',\n",
        "                           'BODYSITE_DESCRIPTION', 'MODALITY_CODE', 'MODALITY_DESCRIPTION',\n",
        "                           'SOP_CODE', 'SOP_DESCRIPTION']\n",
        "sql_query_imaging_studies = SqlQuery(\"imaging_studies\", imaging_studies_columns, \"imaging_studies_info\")\n",
        "etl_queue.append(sql_query_imaging_studies)\n",
        "\n",
        "# list for iteration\n",
        "# etl_queue"
      ],
      "execution_count": null,
      "outputs": [
        {
          "output_type": "stream",
          "name": "stdout",
          "text": [
            "starting etl\n"
          ]
        },
        {
          "output_type": "stream",
          "name": "stderr",
          "text": [
            "Exception ignored in: <function DB.__del__ at 0x7faf44725ef0>\n",
            "Traceback (most recent call last):\n",
            "  File \"<ipython-input-49-9ffe37930408>\", line 8, in __del__\n",
            "sqlite3.ProgrammingError: SQLite objects created in a thread can only be used in that same thread. The object was created in thread id 140391486527360 and this is thread id 140390834460416.\n"
          ]
        }
      ]
    },
    {
      "cell_type": "code",
      "metadata": {
        "id": "nzLfaWkfo3iC",
        "colab": {
          "base_uri": "https://localhost:8080/"
        },
        "outputId": "e1c44144-3537-4715-c7f4-96c9bdf601eb"
      },
      "source": [
        "# establish connection for target database (sql-server)\n",
        "target_cnx = dwh_db.conn\n",
        "etl_process(etl_queue, target_cnx, DB_SOURCE_PATH)"
      ],
      "execution_count": null,
      "outputs": [
        {
          "output_type": "stream",
          "name": "stdout",
          "text": [
            "data loaded to warehouse db\n",
            "data is empty\n",
            "data loaded to warehouse db\n",
            "data loaded to warehouse db\n",
            "data loaded to warehouse db\n",
            "data loaded to warehouse db\n",
            "data loaded to warehouse db\n",
            "data loaded to warehouse db\n",
            "data is empty\n"
          ]
        }
      ]
    },
    {
      "cell_type": "code",
      "metadata": {
        "id": "IB9oD761EGQx"
      },
      "source": [
        "target_cnx.commit()"
      ],
      "execution_count": null,
      "outputs": []
    },
    {
      "cell_type": "code",
      "metadata": {
        "id": "tBYWvkuKEGeS"
      },
      "source": [
        "# target_cnx.close()"
      ],
      "execution_count": null,
      "outputs": []
    },
    {
      "cell_type": "code",
      "metadata": {
        "id": "0RCROkRXNexD"
      },
      "source": [
        "# # check list of tables\n",
        "dwh_cursor = target_cnx.cursor()\n",
        "# dwh_cursor.execute(\"SELECT name FROM sqlite_master WHERE type='table';\")\n",
        "# print(dwh_cursor.fetchall())\n"
      ],
      "execution_count": null,
      "outputs": []
    },
    {
      "cell_type": "code",
      "metadata": {
        "id": "sqkGj0mDK_V1",
        "colab": {
          "base_uri": "https://localhost:8080/"
        },
        "outputId": "e401ba0d-b482-47eb-8b63-8e14cba3839b"
      },
      "source": [
        "# # check columns in a table\n",
        "dwh_cursor.execute('PRAGMA table_info(' + \"patients_info\" + ');')\n",
        "dwh_cursor.fetchall()"
      ],
      "execution_count": null,
      "outputs": [
        {
          "output_type": "execute_result",
          "data": {
            "text/plain": [
              "[(0, 'Id', 'STRING', 0, None, 1),\n",
              " (1, 'BIRTHDATE', 'DATE', 0, None, 0),\n",
              " (2, 'DEATHDATE', 'DATE', 0, None, 0),\n",
              " (3, 'SSN', 'STRING', 0, None, 0),\n",
              " (4, 'DRIVERS', 'STRING', 0, None, 0),\n",
              " (5, 'PASSPORT', 'STRING', 0, None, 0),\n",
              " (6, 'PREFIX', 'STRING', 0, None, 0),\n",
              " (7, 'FIRST', 'STRING', 0, None, 0),\n",
              " (8, 'LAST', 'STRING', 0, None, 0),\n",
              " (9, 'SUFFIX', 'STRING', 0, None, 0),\n",
              " (10, 'MAIDEN', 'STRING', 0, None, 0),\n",
              " (11, 'MARITAL', 'STRING', 0, None, 0),\n",
              " (12, 'RACE', 'STRING', 0, None, 0),\n",
              " (13, 'ETHNICITY', 'STRING', 0, None, 0),\n",
              " (14, 'GENDER', 'STRING', 0, None, 0),\n",
              " (15, 'BIRTHPLACE', 'STRING', 0, None, 0),\n",
              " (16, 'ADDRESS', 'STRING', 0, None, 0),\n",
              " (17, 'CITY', 'STRING', 0, None, 0),\n",
              " (18, 'STATE', 'STRING', 0, None, 0),\n",
              " (19, 'COUNTRY', 'STRING', 0, None, 0),\n",
              " (20, 'ZIP', 'STRING', 0, None, 0),\n",
              " (21, 'LAT', 'INTEGER', 0, None, 0),\n",
              " (22, 'LON', 'INTEGER', 0, None, 0),\n",
              " (23, 'HEALTHCARE_EXPENSES', 'INTEGER', 0, None, 0),\n",
              " (24, 'HEALTHCARE_COVERAGE', 'INTEGER', 0, None, 0)]"
            ]
          },
          "metadata": {},
          "execution_count": 76
        }
      ]
    },
    {
      "cell_type": "code",
      "metadata": {
        "id": "Rvpq5QEYfZmJ",
        "colab": {
          "base_uri": "https://localhost:8080/"
        },
        "outputId": "328d0f3f-d990-4c04-e2fe-b9f70f592513"
      },
      "source": [
        "dwh_cursor.execute(\"SELECT Id, BIRTHDATE, FIRST, LAST, MARITAL, GENDER from patients_info\")\n",
        "rows = dwh_cursor.fetchall()\n",
        "for row in rows[:10]:\n",
        "  print(row)"
      ],
      "execution_count": null,
      "outputs": [
        {
          "output_type": "stream",
          "name": "stdout",
          "text": [
            "('2f114e21-8b95-e9eb-2e9e-4b950b059cfa', '2002-05-05', 'Terisa250', 'Kreiger457', '', 'F')\n",
            "('2812f4fc-6aba-0033-728b-7e569bb8adcc', '1942-05-24', 'Romeo514', 'Morar593', 'M', 'M')\n",
            "('9b1a203a-6368-49a5-0c79-45c32729bc17', '2013-06-15', 'Jamaal34', 'Hessel84', '', 'M')\n",
            "('52a250a9-24e4-ec9b-91d6-c38cf1b10fc0', '1997-11-16', 'Kenya524', 'Leuschke194', '', 'F')\n",
            "('ad5525c0-fdab-94dc-018f-d7209c72bdef', '1965-08-28', 'Clark193', 'Little434', 'M', 'M')\n",
            "('7f30313f-98e9-2cc2-68a5-6f9973f9ad5a', '1974-12-06', 'Simona661', 'Green467', 'M', 'F')\n",
            "('f7dddcba-380e-7fd4-20b0-da086ce5dc3a', '1991-08-19', 'Moira454', 'Quitzon246', 'M', 'F')\n",
            "('21e040b3-3c29-6042-1dba-da47dee67c18', '1952-12-25', 'Guillermo498', 'Cepeda588', 'M', 'M')\n",
            "('b9f7feb0-45ac-55ed-4ee2-be12ad599416', '1980-02-24', 'Geralyn932', 'Steuber698', 'S', 'F')\n",
            "('2b2d8855-c163-3838-a719-995a3cefca33', '1992-10-19', 'Gracia333', 'Lockman863', 'M', 'F')\n"
          ]
        }
      ]
    },
    {
      "cell_type": "code",
      "metadata": {
        "id": "B1G-fY9FiSBU",
        "colab": {
          "base_uri": "https://localhost:8080/"
        },
        "outputId": "ae511be8-92ce-4fc1-e40f-d5468d466875"
      },
      "source": [
        "dwh_cursor.execute(\"SELECT PATIENT,CODE, DESCRIPTION STRING, BASE_COST from procedures_info\")\n",
        "rows = dwh_cursor.fetchall()\n",
        "for row in rows[:10]:\n",
        "  print(row)"
      ],
      "execution_count": null,
      "outputs": [
        {
          "output_type": "stream",
          "name": "stdout",
          "text": [
            "('52a250a9-24e4-ec9b-91d6-c38cf1b10fc0', 261352009, 'Face mask (physical object)', 4.67)\n",
            "('2f114e21-8b95-e9eb-2e9e-4b950b059cfa', 261352009, 'Face mask (physical object)', 3.1)\n",
            "('2812f4fc-6aba-0033-728b-7e569bb8adcc', 261352009, 'Face mask (physical object)', 1.33)\n",
            "('7f30313f-98e9-2cc2-68a5-6f9973f9ad5a', 261352009, 'Face mask (physical object)', 3.56)\n",
            "('9b1a203a-6368-49a5-0c79-45c32729bc17', 261352009, 'Face mask (physical object)', 1.95)\n",
            "('ad5525c0-fdab-94dc-018f-d7209c72bdef', 261352009, 'Face mask (physical object)', 2.59)\n",
            "('2812f4fc-6aba-0033-728b-7e569bb8adcc', 180325003, 'Electrical cardioversion', 44895.87)\n",
            "('ad5525c0-fdab-94dc-018f-d7209c72bdef', 399208008, 'Plain chest X-ray (procedure)', 6211.16)\n",
            "('ad5525c0-fdab-94dc-018f-d7209c72bdef', 371908008, 'Oxygen administration by mask (procedure)', 516.65)\n",
            "('ad5525c0-fdab-94dc-018f-d7209c72bdef', 431182000, 'Placing subject in prone position (procedure)', 516.65)\n"
          ]
        }
      ]
    },
    {
      "cell_type": "markdown",
      "metadata": {
        "id": "ThgNoo38zBCb"
      },
      "source": [
        "# Links:\n",
        "\n",
        "https://pynative.com/python-sqlite/\n",
        "\n",
        "https://www.vertabelo.com/blog/using-python-and-mysql-in-the-etl-process/\n",
        "\n",
        "https://github.com/iamaziz/etl/blob/master/pipeline.py\n",
        "\n",
        "\n",
        "https://medium.com/datadriveninvestor/complete-data-analytics-solution-using-etl-pipeline-in-python-edd6580de24b"
      ]
    },
    {
      "cell_type": "code",
      "metadata": {
        "id": "i-DLW9DWzDJ2"
      },
      "source": [
        ""
      ],
      "execution_count": null,
      "outputs": []
    }
  ]
}