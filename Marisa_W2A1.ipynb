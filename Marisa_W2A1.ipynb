{
  "nbformat": 4,
  "nbformat_minor": 0,
  "metadata": {
    "colab": {
      "name": "Marisa_W2A1.ipynb",
      "provenance": [],
      "toc_visible": true,
      "authorship_tag": "ABX9TyMxwfjCcLyJcxMmbJcYv4VM",
      "include_colab_link": true
    },
    "kernelspec": {
      "name": "python3",
      "display_name": "Python 3"
    },
    "language_info": {
      "name": "python"
    }
  },
  "cells": [
    {
      "cell_type": "markdown",
      "metadata": {
        "id": "view-in-github",
        "colab_type": "text"
      },
      "source": [
        "<a href=\"https://colab.research.google.com/github/MarisaRies/Woche2/blob/main/Marisa_W2A1.ipynb\" target=\"_parent\"><img src=\"https://colab.research.google.com/assets/colab-badge.svg\" alt=\"Open In Colab\"/></a>"
      ]
    },
    {
      "cell_type": "markdown",
      "source": [
        "Aufgabe Woche2/A1\n",
        "\n",
        "\n",
        "\n",
        "1. GIT: https://github.com/MarisaRies/Woche2\n",
        "2. SQL create statements erstellen\n",
        "3. CSV Datein in DB importieren\n",
        "\n",
        "\n",
        "Tabellen:\n",
        "disease (allergies.csv),\n",
        "patients,\n",
        "encounters,\n",
        "careplans,\n",
        "conditions,\n",
        "medications,\n",
        "procedures,\n",
        "observations,\n",
        "devices,\n",
        "imaging_studies,\n",
        "immunizations,\n",
        "\n",
        "Weitere Tabellen aus Quelle verwenden?\n",
        "https://github.com/synthetichealth/synthea/wiki/CSV-File-Data-Dictionary"
      ],
      "metadata": {
        "id": "ohHmShV89bU9"
      }
    },
    {
      "cell_type": "markdown",
      "source": [
        "# Tabelle Disease"
      ],
      "metadata": {
        "id": "UGn-ZCGaOwcj"
      }
    },
    {
      "cell_type": "code",
      "source": [
        "# sql query to create disease table\n",
        "sql_table[\"disease\"] = \"\"\"CREATE TABLE IF NOT EXISTS disease (\n",
        "                           START DATE,\n",
        "                           STOP DATE,\n",
        "                           PATIENT STRING,\n",
        "                           ENCOUNTER STRING,\n",
        "                           CODE STRING,\n",
        "                           DESCRIPTION STRING,\n",
        "                           FOREIGN KEY (PATIENT)\n",
        "                              REFERENCES patients (Id) \n",
        "                           FOREIGN KEY (Encounter)\n",
        "                              REFERENCES encounters (Id)\n",
        "                           \n",
        "                       );\"\""
      ],
      "metadata": {
        "id": "XyOzXit-J0aJ"
      },
      "execution_count": null,
      "outputs": []
    },
    {
      "cell_type": "markdown",
      "source": [
        "| Column | Start Date | Stop Date | Patient | Encounter | Code | Description | \n",
        "| :--- | :----: | :----: | :----: | :----: | :----: | ---: |\n",
        "| Data type | DATE | DATE | STRING | STRING | STRING | STRING  |\n",
        "| Description | The date the allergy was diagnosed | The date the allergy ended, if applicable | Foreign key to the Patient | Foreign key to the Encounter when the allergy was diagnosed | Allergy code from SNOMED-CT | Description of the Allergy |\n",
        "| Index | None | None | None | None | None | None |\n",
        "| Foreign Key | None | None | To \"Patients\" | To \"Encounters\" |None | None |"
      ],
      "metadata": {
        "id": "hYNFWFtsJ2sq"
      }
    },
    {
      "cell_type": "markdown",
      "source": [
        "# Tabelle Patients"
      ],
      "metadata": {
        "id": "XqbfFSYPIVYy"
      }
    },
    {
      "cell_type": "markdown",
      "source": [
        "# Tabelle Encounters"
      ],
      "metadata": {
        "id": "x9SzvcNxIWGy"
      }
    }
  ]
}